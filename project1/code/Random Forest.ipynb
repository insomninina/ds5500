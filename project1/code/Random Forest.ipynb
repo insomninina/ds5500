{
 "cells": [
  {
   "cell_type": "code",
   "execution_count": 12,
   "id": "1fdc3716",
   "metadata": {},
   "outputs": [],
   "source": [
    "import pandas as pd\n",
    "import numpy as np\n",
    "import matplotlib.pyplot as plt\n",
    "import seaborn as sns\n",
    "\n",
    "from sklearn.model_selection import train_test_split\n",
    "from sklearn.ensemble import RandomForestClassifier\n",
    "from sklearn import metrics\n",
    "import pickle\n",
    "import time"
   ]
  },
  {
   "cell_type": "code",
   "execution_count": 21,
   "id": "54c16064",
   "metadata": {},
   "outputs": [],
   "source": [
    "# import data using pickle files\n",
    "eda = pickle.load(open(\"pickle/eda.pkl\", \"rb\"))\n",
    "null_hist = pickle.load(open(\"pickle/nulls.pkl\", \"rb\"))\n",
    "cat_features = pickle.load(open(\"pickle/cat_features.pkl\", \"rb\"))\n",
    "fs = pickle.load(open(\"pickle/fs_df.pkl\", \"rb\"))\n",
    "ss = pickle.load(open('data/ss_imputed.pkl', 'rb'))\n",
    "fs2 = pickle.load(open('data/fs2.pkl', 'rb'))\n",
    "\n",
    "\n",
    "# pickle.dump(eda, open(\"pickle/eda.pkl\", \"wb\"))\n",
    "# pickle.dump(null_hist, open(\"pickle/nulls.pkl\", \"wb\"))\n",
    "# pickle.dump(cat_features, open(\"pickle/cat_features.pkl\", \"wb\"))\n",
    "# pickle.dump(fs, open(\"pickle/fs_df.pkl\", \"wb\"))\n",
    "# pickle.dump(ss, open('data/ss_imputed.pkl', 'wb'))\n",
    "# pickle.dump(fs2, open('data/fs2.pkl', 'wb'))\n"
   ]
  },
  {
   "cell_type": "code",
   "execution_count": 25,
   "id": "5ffae312",
   "metadata": {},
   "outputs": [],
   "source": [
    "# train test split with stratifier for target\n",
    "\n",
    "data = ss.copy()\n",
    "# data.head()\n",
    "\n",
    "\n",
    "X = data.iloc[:,0:139]  #independent columns\n",
    "y = data.iloc[:,-1]    #target column "
   ]
  },
  {
   "cell_type": "code",
   "execution_count": 26,
   "id": "703c394a",
   "metadata": {},
   "outputs": [],
   "source": [
    "# Split dataset into train set and test set\n",
    "X_train, X_test, y_train, y_test = train_test_split(X, y, test_size=0.1, stratify=data['target'])"
   ]
  },
  {
   "cell_type": "code",
   "execution_count": 27,
   "id": "9fb29935",
   "metadata": {},
   "outputs": [],
   "source": [
    "# build classifier\n",
    "#Create a Gaussian Classifier\n",
    "clf=RandomForestClassifier(n_estimators=100)\n",
    "\n",
    "#Train the model using the training sets y_pred=clf.predict(X_test)\n",
    "clf.fit(X_train,y_train)\n",
    "\n",
    "y_pred=clf.predict(X_test)"
   ]
  },
  {
   "cell_type": "code",
   "execution_count": 28,
   "id": "ec00e8f2",
   "metadata": {},
   "outputs": [
    {
     "name": "stdout",
     "output_type": "stream",
     "text": [
      "Accuracy: 0.9327\n"
     ]
    }
   ],
   "source": [
    "# Model Accuracy, how often is the classifier correct?\n",
    "print(\"Accuracy:\",metrics.accuracy_score(y_test, y_pred))"
   ]
  },
  {
   "cell_type": "code",
   "execution_count": 33,
   "id": "9c3bb729",
   "metadata": {},
   "outputs": [
    {
     "name": "stdout",
     "output_type": "stream",
     "text": [
      "[[7172  289]\n",
      " [ 384 2155]]\n"
     ]
    }
   ],
   "source": [
    "print(metrics.confusion_matrix(y_test, y_pred))"
   ]
  },
  {
   "cell_type": "code",
   "execution_count": 32,
   "id": "4baaaae0",
   "metadata": {},
   "outputs": [
    {
     "name": "stdout",
     "output_type": "stream",
     "text": [
      "              precision    recall  f1-score   support\n",
      "\n",
      "           0       0.95      0.96      0.96      7461\n",
      "           1       0.88      0.85      0.86      2539\n",
      "\n",
      "    accuracy                           0.93     10000\n",
      "   macro avg       0.92      0.91      0.91     10000\n",
      "weighted avg       0.93      0.93      0.93     10000\n",
      "\n"
     ]
    }
   ],
   "source": [
    "print(metrics.classification_report(y_test, y_pred, digits=2))"
   ]
  }
 ],
 "metadata": {
  "kernelspec": {
   "display_name": "Python 3",
   "language": "python",
   "name": "python3"
  },
  "language_info": {
   "codemirror_mode": {
    "name": "ipython",
    "version": 3
   },
   "file_extension": ".py",
   "mimetype": "text/x-python",
   "name": "python",
   "nbconvert_exporter": "python",
   "pygments_lexer": "ipython3",
   "version": "3.8.8"
  }
 },
 "nbformat": 4,
 "nbformat_minor": 5
}
